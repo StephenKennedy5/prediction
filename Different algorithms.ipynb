{
 "cells": [
  {
   "cell_type": "code",
   "execution_count": 290,
   "metadata": {},
   "outputs": [
    {
     "name": "stdout",
     "output_type": "stream",
     "text": [
      "Requirement already satisfied: liac-arff in /usr/local/lib/python3.7/site-packages (2.5.0)\r\n"
     ]
    }
   ],
   "source": [
    "import pandas as pd"
   ]
  },
  {
   "cell_type": "code",
   "execution_count": 291,
   "metadata": {},
   "outputs": [],
   "source": [
    "train_data = pd.read_csv(\"la_nugs.csv\")"
   ]
  },
  {
   "cell_type": "code",
   "execution_count": 292,
   "metadata": {},
   "outputs": [],
   "source": [
    "test_data = pd.read_csv(\"test_data.csv\")"
   ]
  },
  {
   "cell_type": "code",
   "execution_count": 293,
   "metadata": {},
   "outputs": [],
   "source": [
    "for i in train_data.columns:\n",
    "    if i not in [\"Team Score\",\"Opp Score\",\"Home/Away\",\"Opponent\",\"Team\",\"Opponent_num\"]:\n",
    "        train_data[i]=train_data[i].shift(1)"
   ]
  },
  {
   "cell_type": "code",
   "execution_count": 294,
   "metadata": {},
   "outputs": [],
   "source": [
    "test_data.rename({\"Tm\":\"Team Score\",\"Opp\":\"Opp Score\",\"Team_num\":\"Team\"},inplace=True,axis=1)"
   ]
  },
  {
   "cell_type": "code",
   "execution_count": 295,
   "metadata": {},
   "outputs": [],
   "source": [
    "for i in test_data.columns:\n",
    "    if i not in [\"Team Score\",\"Opp Score\",\"Home/Away\",\"Opponent\",\"Team\",\"Opponent_num\"]:\n",
    "        test_data[i]=test_data[i].shift(1)"
   ]
  },
  {
   "cell_type": "code",
   "execution_count": 296,
   "metadata": {},
   "outputs": [
    {
     "name": "stdout",
     "output_type": "stream",
     "text": [
      "Index(['Team Score', 'Opp Score', 'Home/Away', 'Opponent', 'Team FG%',\n",
      "       'Opponent FG%', 'Team 3P%', 'Opponent 3P%', 'Team AST', 'Team TOV',\n",
      "       'Opponent AST', 'Opponent TOV', 'Team FGA', 'Team FTA', 'Opponent FGA',\n",
      "       'Opponent FTA', 'Team ORB', 'Opponent ORB', 'ORtg', 'DRtg',\n",
      "       'Ast_Tov_Team', 'Ast_Tov_Opp', 'Possession', 'Team', 'Opponent_num'],\n",
      "      dtype='object')\n",
      "Index(['Home/Away', 'Opponent', 'W/L', 'Team Score', 'Opp Score', 'ORtg',\n",
      "       'DRtg', 'Pace', 'FTr', '3PAr', 'TS%', 'TRB%', 'AST%', 'STL%', 'BLK%',\n",
      "       'Unnamed: 18_level_1', 'eFG%', 'TOV%', 'ORB%', 'FT/FGA',\n",
      "       'Unnamed: 23_level_1', 'def_eFG%', 'def_TOV%', 'def_DRB%', 'def_FT/FGA',\n",
      "       'Team', 'Opp_num', 'Opponent_num'],\n",
      "      dtype='object')\n",
      "['Team FG%', 'Opponent FG%', 'Team 3P%', 'Opponent 3P%', 'Team AST', 'Team TOV', 'Opponent AST', 'Opponent TOV', 'Team FGA', 'Team FTA', 'Opponent FGA', 'Opponent FTA', 'Team ORB', 'Opponent ORB', 'Ast_Tov_Team', 'Ast_Tov_Opp', 'Possession']\n",
      "['Team Score', 'Opp Score', 'Home/Away', 'Opponent', 'ORtg', 'DRtg', 'Team', 'Opponent_num']\n"
     ]
    }
   ],
   "source": [
    "print(train_data.columns)\n",
    "test_data.drop(['Unnamed: 0','Rk','G','Date'],axis=1,inplace=True)\n",
    "print(test_data.columns)\n",
    "print([i for i in train_data.columns if i not in test_data.columns])\n",
    "print([i for i in train_data.columns if i in test_data.columns])"
   ]
  },
  {
   "cell_type": "code",
   "execution_count": 297,
   "metadata": {},
   "outputs": [],
   "source": [
    "train_data.fillna(0,inplace=True)\n",
    "train_x = train_data[[\"Team\",\"Home/Away\",\"Opponent_num\",\"ORtg\",\"DRtg\"]].to_numpy()\n",
    "train_y = train_data[[\"Team Score\"]].to_numpy()"
   ]
  },
  {
   "cell_type": "code",
   "execution_count": 298,
   "metadata": {},
   "outputs": [],
   "source": [
    "test_data.fillna(0,inplace=True)\n",
    "test_x = test_data[[\"Team\",\"Home/Away\",\"Opponent_num\",\"ORtg\",\"DRtg\"]].to_numpy()\n",
    "test_y = test_data[[\"Team Score\"]].to_numpy()"
   ]
  },
  {
   "cell_type": "code",
   "execution_count": 299,
   "metadata": {},
   "outputs": [
    {
     "name": "stdout",
     "output_type": "stream",
     "text": [
      "-0.29315480396607674\n"
     ]
    }
   ],
   "source": [
    "import numpy as np\n",
    "from sklearn.linear_model import LinearRegression\n",
    "\n",
    "model = LinearRegression(fit_intercept=True, normalize=True)\n",
    "\n",
    "# Train the model\n",
    "model = model.fit(train_x,train_y)\n",
    "\n",
    "_sq = model.score(test_x, test_y)\n",
    "\n",
    "print(_sq)"
   ]
  },
  {
   "cell_type": "code",
   "execution_count": 300,
   "metadata": {},
   "outputs": [
    {
     "name": "stdout",
     "output_type": "stream",
     "text": [
      "0.0\n"
     ]
    },
    {
     "name": "stderr",
     "output_type": "stream",
     "text": [
      "/usr/local/lib/python3.7/site-packages/ipykernel_launcher.py:3: DataConversionWarning: A column-vector y was passed when a 1d array was expected. Please change the shape of y to (n_samples, ), for example using ravel().\n",
      "  This is separate from the ipykernel package so we can avoid doing imports until\n"
     ]
    }
   ],
   "source": [
    "from sklearn.neighbors import KNeighborsClassifier\n",
    "knn = KNeighborsClassifier(n_neighbors = 10)\n",
    "knn.fit(train_x, train_y)\n",
    "knn_sq = knn.score(test_x,test_y)\n",
    "print(knn_sq)"
   ]
  },
  {
   "cell_type": "code",
   "execution_count": 301,
   "metadata": {},
   "outputs": [
    {
     "name": "stderr",
     "output_type": "stream",
     "text": [
      "/usr/local/lib/python3.7/site-packages/sklearn/utils/validation.py:760: DataConversionWarning: A column-vector y was passed when a 1d array was expected. Please change the shape of y to (n_samples, ), for example using ravel().\n",
      "  y = column_or_1d(y, warn=True)\n"
     ]
    },
    {
     "name": "stdout",
     "output_type": "stream",
     "text": [
      "0.07142857142857142\n"
     ]
    },
    {
     "name": "stderr",
     "output_type": "stream",
     "text": [
      "/usr/local/lib/python3.7/site-packages/sklearn/svm/_base.py:947: ConvergenceWarning: Liblinear failed to converge, increase the number of iterations.\n",
      "  \"the number of iterations.\", ConvergenceWarning)\n"
     ]
    }
   ],
   "source": [
    "# LinearSVC classification (Accuracy of 68.46%)\n",
    "from sklearn.svm import LinearSVC\n",
    "lclf = LinearSVC(random_state=0, tol=1e-5, max_iter=1000)\n",
    "lclf.fit(train_x, train_y)\n",
    "svc_sq = lclf.score(test_x,test_y)\n",
    "print(svc_sq)"
   ]
  },
  {
   "cell_type": "code",
   "execution_count": 306,
   "metadata": {},
   "outputs": [
    {
     "name": "stderr",
     "output_type": "stream",
     "text": [
      "/usr/local/lib/python3.7/site-packages/sklearn/utils/validation.py:760: DataConversionWarning: A column-vector y was passed when a 1d array was expected. Please change the shape of y to (n_samples, ), for example using ravel().\n",
      "  y = column_or_1d(y, warn=True)\n"
     ]
    },
    {
     "name": "stdout",
     "output_type": "stream",
     "text": [
      "0.07142857142857142\n"
     ]
    },
    {
     "name": "stderr",
     "output_type": "stream",
     "text": [
      "/usr/local/lib/python3.7/site-packages/sklearn/ensemble/_bagging.py:645: DataConversionWarning: A column-vector y was passed when a 1d array was expected. Please change the shape of y to (n_samples, ), for example using ravel().\n",
      "  y = column_or_1d(y, warn=True)\n"
     ]
    },
    {
     "name": "stdout",
     "output_type": "stream",
     "text": [
      "0.0\n"
     ]
    },
    {
     "name": "stderr",
     "output_type": "stream",
     "text": [
      "/usr/local/lib/python3.7/site-packages/ipykernel_launcher.py:18: DataConversionWarning: A column-vector y was passed when a 1d array was expected. Please change the shape of y to (n_samples,), for example using ravel().\n"
     ]
    },
    {
     "name": "stdout",
     "output_type": "stream",
     "text": [
      "0.07142857142857142\n"
     ]
    },
    {
     "name": "stderr",
     "output_type": "stream",
     "text": [
      "/usr/local/lib/python3.7/site-packages/sklearn/preprocessing/_label.py:235: DataConversionWarning: A column-vector y was passed when a 1d array was expected. Please change the shape of y to (n_samples, ), for example using ravel().\n",
      "  y = column_or_1d(y, warn=True)\n",
      "/usr/local/lib/python3.7/site-packages/sklearn/preprocessing/_label.py:268: DataConversionWarning: A column-vector y was passed when a 1d array was expected. Please change the shape of y to (n_samples, ), for example using ravel().\n",
      "  y = column_or_1d(y, warn=True)\n"
     ]
    },
    {
     "ename": "KeyboardInterrupt",
     "evalue": "",
     "output_type": "error",
     "traceback": [
      "\u001b[0;31m---------------------------------------------------------------------------\u001b[0m",
      "\u001b[0;31mKeyboardInterrupt\u001b[0m                         Traceback (most recent call last)",
      "\u001b[0;32m<ipython-input-306-021fa4158556>\u001b[0m in \u001b[0;36m<module>\u001b[0;34m\u001b[0m\n\u001b[1;32m     23\u001b[0m \u001b[0;32mfrom\u001b[0m \u001b[0msklearn\u001b[0m\u001b[0;34m.\u001b[0m\u001b[0mmetrics\u001b[0m \u001b[0;32mimport\u001b[0m \u001b[0maccuracy_score\u001b[0m\u001b[0;34m\u001b[0m\u001b[0;34m\u001b[0m\u001b[0m\n\u001b[1;32m     24\u001b[0m \u001b[0mxgbModel\u001b[0m \u001b[0;34m=\u001b[0m \u001b[0mXGBClassifier\u001b[0m\u001b[0;34m(\u001b[0m\u001b[0;34m)\u001b[0m\u001b[0;34m\u001b[0m\u001b[0;34m\u001b[0m\u001b[0m\n\u001b[0;32m---> 25\u001b[0;31m \u001b[0mxgbModel\u001b[0m\u001b[0;34m.\u001b[0m\u001b[0mfit\u001b[0m\u001b[0;34m(\u001b[0m\u001b[0mtrain_x\u001b[0m\u001b[0;34m,\u001b[0m \u001b[0mtrain_y\u001b[0m\u001b[0;34m)\u001b[0m\u001b[0;34m\u001b[0m\u001b[0;34m\u001b[0m\u001b[0m\n\u001b[0m\u001b[1;32m     26\u001b[0m \u001b[0mxgbPredictions\u001b[0m \u001b[0;34m=\u001b[0m \u001b[0mxgbModel\u001b[0m\u001b[0;34m.\u001b[0m\u001b[0mpredict\u001b[0m\u001b[0;34m(\u001b[0m\u001b[0mtest_x\u001b[0m\u001b[0;34m)\u001b[0m\u001b[0;34m\u001b[0m\u001b[0;34m\u001b[0m\u001b[0m\n\u001b[1;32m     27\u001b[0m \u001b[0mxgbAccuracy\u001b[0m \u001b[0;34m=\u001b[0m \u001b[0maccuracy_score\u001b[0m\u001b[0;34m(\u001b[0m\u001b[0mtest_y\u001b[0m\u001b[0;34m,\u001b[0m \u001b[0mxgbPredictions\u001b[0m\u001b[0;34m)\u001b[0m\u001b[0;34m\u001b[0m\u001b[0;34m\u001b[0m\u001b[0m\n",
      "\u001b[0;32m/usr/local/lib/python3.7/site-packages/xgboost/sklearn.py\u001b[0m in \u001b[0;36mfit\u001b[0;34m(self, X, y, sample_weight, base_margin, eval_set, eval_metric, early_stopping_rounds, verbose, xgb_model, sample_weight_eval_set, callbacks)\u001b[0m\n\u001b[1;32m    832\u001b[0m                               \u001b[0mevals_result\u001b[0m\u001b[0;34m=\u001b[0m\u001b[0mevals_result\u001b[0m\u001b[0;34m,\u001b[0m \u001b[0mobj\u001b[0m\u001b[0;34m=\u001b[0m\u001b[0mobj\u001b[0m\u001b[0;34m,\u001b[0m \u001b[0mfeval\u001b[0m\u001b[0;34m=\u001b[0m\u001b[0mfeval\u001b[0m\u001b[0;34m,\u001b[0m\u001b[0;34m\u001b[0m\u001b[0;34m\u001b[0m\u001b[0m\n\u001b[1;32m    833\u001b[0m                               \u001b[0mverbose_eval\u001b[0m\u001b[0;34m=\u001b[0m\u001b[0mverbose\u001b[0m\u001b[0;34m,\u001b[0m \u001b[0mxgb_model\u001b[0m\u001b[0;34m=\u001b[0m\u001b[0mxgb_model\u001b[0m\u001b[0;34m,\u001b[0m\u001b[0;34m\u001b[0m\u001b[0;34m\u001b[0m\u001b[0m\n\u001b[0;32m--> 834\u001b[0;31m                               callbacks=callbacks)\n\u001b[0m\u001b[1;32m    835\u001b[0m \u001b[0;34m\u001b[0m\u001b[0m\n\u001b[1;32m    836\u001b[0m         \u001b[0mself\u001b[0m\u001b[0;34m.\u001b[0m\u001b[0mobjective\u001b[0m \u001b[0;34m=\u001b[0m \u001b[0mxgb_options\u001b[0m\u001b[0;34m[\u001b[0m\u001b[0;34m\"objective\"\u001b[0m\u001b[0;34m]\u001b[0m\u001b[0;34m\u001b[0m\u001b[0;34m\u001b[0m\u001b[0m\n",
      "\u001b[0;32m/usr/local/lib/python3.7/site-packages/xgboost/training.py\u001b[0m in \u001b[0;36mtrain\u001b[0;34m(params, dtrain, num_boost_round, evals, obj, feval, maximize, early_stopping_rounds, evals_result, verbose_eval, xgb_model, callbacks)\u001b[0m\n\u001b[1;32m    210\u001b[0m                            \u001b[0mevals\u001b[0m\u001b[0;34m=\u001b[0m\u001b[0mevals\u001b[0m\u001b[0;34m,\u001b[0m\u001b[0;34m\u001b[0m\u001b[0;34m\u001b[0m\u001b[0m\n\u001b[1;32m    211\u001b[0m                            \u001b[0mobj\u001b[0m\u001b[0;34m=\u001b[0m\u001b[0mobj\u001b[0m\u001b[0;34m,\u001b[0m \u001b[0mfeval\u001b[0m\u001b[0;34m=\u001b[0m\u001b[0mfeval\u001b[0m\u001b[0;34m,\u001b[0m\u001b[0;34m\u001b[0m\u001b[0;34m\u001b[0m\u001b[0m\n\u001b[0;32m--> 212\u001b[0;31m                            xgb_model=xgb_model, callbacks=callbacks)\n\u001b[0m\u001b[1;32m    213\u001b[0m \u001b[0;34m\u001b[0m\u001b[0m\n\u001b[1;32m    214\u001b[0m \u001b[0;34m\u001b[0m\u001b[0m\n",
      "\u001b[0;32m/usr/local/lib/python3.7/site-packages/xgboost/training.py\u001b[0m in \u001b[0;36m_train_internal\u001b[0;34m(params, dtrain, num_boost_round, evals, obj, feval, xgb_model, callbacks)\u001b[0m\n\u001b[1;32m     73\u001b[0m         \u001b[0;31m# Skip the first update if it is a recovery step.\u001b[0m\u001b[0;34m\u001b[0m\u001b[0;34m\u001b[0m\u001b[0;34m\u001b[0m\u001b[0m\n\u001b[1;32m     74\u001b[0m         \u001b[0;32mif\u001b[0m \u001b[0mversion\u001b[0m \u001b[0;34m%\u001b[0m \u001b[0;36m2\u001b[0m \u001b[0;34m==\u001b[0m \u001b[0;36m0\u001b[0m\u001b[0;34m:\u001b[0m\u001b[0;34m\u001b[0m\u001b[0;34m\u001b[0m\u001b[0m\n\u001b[0;32m---> 75\u001b[0;31m             \u001b[0mbst\u001b[0m\u001b[0;34m.\u001b[0m\u001b[0mupdate\u001b[0m\u001b[0;34m(\u001b[0m\u001b[0mdtrain\u001b[0m\u001b[0;34m,\u001b[0m \u001b[0mi\u001b[0m\u001b[0;34m,\u001b[0m \u001b[0mobj\u001b[0m\u001b[0;34m)\u001b[0m\u001b[0;34m\u001b[0m\u001b[0;34m\u001b[0m\u001b[0m\n\u001b[0m\u001b[1;32m     76\u001b[0m             \u001b[0mbst\u001b[0m\u001b[0;34m.\u001b[0m\u001b[0msave_rabit_checkpoint\u001b[0m\u001b[0;34m(\u001b[0m\u001b[0;34m)\u001b[0m\u001b[0;34m\u001b[0m\u001b[0;34m\u001b[0m\u001b[0m\n\u001b[1;32m     77\u001b[0m             \u001b[0mversion\u001b[0m \u001b[0;34m+=\u001b[0m \u001b[0;36m1\u001b[0m\u001b[0;34m\u001b[0m\u001b[0;34m\u001b[0m\u001b[0m\n",
      "\u001b[0;32m/usr/local/lib/python3.7/site-packages/xgboost/core.py\u001b[0m in \u001b[0;36mupdate\u001b[0;34m(self, dtrain, iteration, fobj)\u001b[0m\n\u001b[1;32m   1159\u001b[0m             _check_call(_LIB.XGBoosterUpdateOneIter(self.handle,\n\u001b[1;32m   1160\u001b[0m                                                     \u001b[0mctypes\u001b[0m\u001b[0;34m.\u001b[0m\u001b[0mc_int\u001b[0m\u001b[0;34m(\u001b[0m\u001b[0miteration\u001b[0m\u001b[0;34m)\u001b[0m\u001b[0;34m,\u001b[0m\u001b[0;34m\u001b[0m\u001b[0;34m\u001b[0m\u001b[0m\n\u001b[0;32m-> 1161\u001b[0;31m                                                     dtrain.handle))\n\u001b[0m\u001b[1;32m   1162\u001b[0m         \u001b[0;32melse\u001b[0m\u001b[0;34m:\u001b[0m\u001b[0;34m\u001b[0m\u001b[0;34m\u001b[0m\u001b[0m\n\u001b[1;32m   1163\u001b[0m             \u001b[0mpred\u001b[0m \u001b[0;34m=\u001b[0m \u001b[0mself\u001b[0m\u001b[0;34m.\u001b[0m\u001b[0mpredict\u001b[0m\u001b[0;34m(\u001b[0m\u001b[0mdtrain\u001b[0m\u001b[0;34m,\u001b[0m \u001b[0moutput_margin\u001b[0m\u001b[0;34m=\u001b[0m\u001b[0;32mTrue\u001b[0m\u001b[0;34m,\u001b[0m \u001b[0mtraining\u001b[0m\u001b[0;34m=\u001b[0m\u001b[0;32mTrue\u001b[0m\u001b[0;34m)\u001b[0m\u001b[0;34m\u001b[0m\u001b[0;34m\u001b[0m\u001b[0m\n",
      "\u001b[0;31mKeyboardInterrupt\u001b[0m: "
     ]
    }
   ],
   "source": [
    "# SVC prediction model attempt \n",
    "from sklearn.svm import SVC\n",
    "from sklearn import svm\n",
    "clf = SVC(gamma='scale',probability=True)\n",
    "clf.fit(train_x, train_y)\n",
    "print(clf.score(test_x,test_y))\n",
    "\n",
    "#BaggingSVC Ensemble classification \n",
    "from sklearn.svm import SVC\n",
    "from sklearn.ensemble import BaggingClassifier\n",
    "advclf = BaggingClassifier(base_estimator=SVC(gamma='scale'), n_estimators=10, random_state=0)\n",
    "advclf.fit(train_x, train_y)\n",
    "print(advclf.score(test_x,test_y))\n",
    "\n",
    "# Random Forest Classification model \n",
    "from sklearn.ensemble import RandomForestClassifier\n",
    "rdf = RandomForestClassifier(max_depth=8, random_state=0, n_estimators=300)\n",
    "rdf.fit(train_x, train_y)\n",
    "print(rdf.score(test_x,test_y))\n",
    "\n",
    "# # XGBClassifier\n",
    "# from xgboost import XGBClassifier\n",
    "# from sklearn.metrics import accuracy_score\n",
    "# xgbModel = XGBClassifier()\n",
    "# xgbModel.fit(train_x, train_y)\n",
    "# xgbPredictions = xgbModel.predict(test_x)\n",
    "# xgbAccuracy = accuracy_score(test_y, xgbPredictions)\n",
    "# print(xgbAccuracy)"
   ]
  },
  {
   "cell_type": "markdown",
   "metadata": {},
   "source": [
    "<b>Algorithms to only predict wins</b>"
   ]
  },
  {
   "cell_type": "code",
   "execution_count": 317,
   "metadata": {},
   "outputs": [],
   "source": [
    "test_data[\"Win\"] = (test_data[\"Team Score\"]>test_data[\"Opp Score\"]).astype(\"int\")\n",
    "train_data[\"Win\"] = (train_data[\"Team Score\"]>train_data[\"Opp Score\"]).astype(\"int\")"
   ]
  },
  {
   "cell_type": "code",
   "execution_count": 318,
   "metadata": {},
   "outputs": [
    {
     "data": {
      "text/html": [
       "<div>\n",
       "<style scoped>\n",
       "    .dataframe tbody tr th:only-of-type {\n",
       "        vertical-align: middle;\n",
       "    }\n",
       "\n",
       "    .dataframe tbody tr th {\n",
       "        vertical-align: top;\n",
       "    }\n",
       "\n",
       "    .dataframe thead th {\n",
       "        text-align: right;\n",
       "    }\n",
       "</style>\n",
       "<table border=\"1\" class=\"dataframe\">\n",
       "  <thead>\n",
       "    <tr style=\"text-align: right;\">\n",
       "      <th></th>\n",
       "      <th>Home/Away</th>\n",
       "      <th>Opponent</th>\n",
       "      <th>W/L</th>\n",
       "      <th>Team Score</th>\n",
       "      <th>Opp Score</th>\n",
       "      <th>ORtg</th>\n",
       "      <th>DRtg</th>\n",
       "      <th>Pace</th>\n",
       "      <th>FTr</th>\n",
       "      <th>3PAr</th>\n",
       "      <th>...</th>\n",
       "      <th>FT/FGA</th>\n",
       "      <th>Unnamed: 23_level_1</th>\n",
       "      <th>def_eFG%</th>\n",
       "      <th>def_TOV%</th>\n",
       "      <th>def_DRB%</th>\n",
       "      <th>def_FT/FGA</th>\n",
       "      <th>Team</th>\n",
       "      <th>Opp_num</th>\n",
       "      <th>Opponent_num</th>\n",
       "      <th>Win</th>\n",
       "    </tr>\n",
       "  </thead>\n",
       "  <tbody>\n",
       "    <tr>\n",
       "      <th>0</th>\n",
       "      <td>1</td>\n",
       "      <td>UTA</td>\n",
       "      <td>0</td>\n",
       "      <td>135</td>\n",
       "      <td>125</td>\n",
       "      <td>0.0</td>\n",
       "      <td>0.0</td>\n",
       "      <td>0.0</td>\n",
       "      <td>0.000</td>\n",
       "      <td>0.000</td>\n",
       "      <td>...</td>\n",
       "      <td>0.000</td>\n",
       "      <td>0.0</td>\n",
       "      <td>0.000</td>\n",
       "      <td>0.0</td>\n",
       "      <td>0.0</td>\n",
       "      <td>0.000</td>\n",
       "      <td>18</td>\n",
       "      <td>0.0</td>\n",
       "      <td>21</td>\n",
       "      <td>1</td>\n",
       "    </tr>\n",
       "    <tr>\n",
       "      <th>1</th>\n",
       "      <td>1</td>\n",
       "      <td>UTA</td>\n",
       "      <td>W</td>\n",
       "      <td>105</td>\n",
       "      <td>124</td>\n",
       "      <td>130.0</td>\n",
       "      <td>120.4</td>\n",
       "      <td>94.0</td>\n",
       "      <td>0.189</td>\n",
       "      <td>0.432</td>\n",
       "      <td>...</td>\n",
       "      <td>0.158</td>\n",
       "      <td>0.0</td>\n",
       "      <td>0.557</td>\n",
       "      <td>12.3</td>\n",
       "      <td>67.3</td>\n",
       "      <td>0.175</td>\n",
       "      <td>18</td>\n",
       "      <td>0.0</td>\n",
       "      <td>21</td>\n",
       "      <td>0</td>\n",
       "    </tr>\n",
       "    <tr>\n",
       "      <th>2</th>\n",
       "      <td>0</td>\n",
       "      <td>UTA</td>\n",
       "      <td>L</td>\n",
       "      <td>87</td>\n",
       "      <td>124</td>\n",
       "      <td>122.7</td>\n",
       "      <td>144.8</td>\n",
       "      <td>85.6</td>\n",
       "      <td>0.284</td>\n",
       "      <td>0.333</td>\n",
       "      <td>...</td>\n",
       "      <td>0.222</td>\n",
       "      <td>0.0</td>\n",
       "      <td>0.632</td>\n",
       "      <td>6.0</td>\n",
       "      <td>71.8</td>\n",
       "      <td>0.161</td>\n",
       "      <td>18</td>\n",
       "      <td>0.0</td>\n",
       "      <td>21</td>\n",
       "      <td>0</td>\n",
       "    </tr>\n",
       "    <tr>\n",
       "      <th>3</th>\n",
       "      <td>0</td>\n",
       "      <td>UTA</td>\n",
       "      <td>L</td>\n",
       "      <td>127</td>\n",
       "      <td>129</td>\n",
       "      <td>95.4</td>\n",
       "      <td>135.9</td>\n",
       "      <td>91.2</td>\n",
       "      <td>0.125</td>\n",
       "      <td>0.432</td>\n",
       "      <td>...</td>\n",
       "      <td>0.102</td>\n",
       "      <td>0.0</td>\n",
       "      <td>0.619</td>\n",
       "      <td>9.5</td>\n",
       "      <td>69.0</td>\n",
       "      <td>0.238</td>\n",
       "      <td>18</td>\n",
       "      <td>0.0</td>\n",
       "      <td>21</td>\n",
       "      <td>0</td>\n",
       "    </tr>\n",
       "    <tr>\n",
       "      <th>4</th>\n",
       "      <td>1</td>\n",
       "      <td>UTA</td>\n",
       "      <td>L</td>\n",
       "      <td>117</td>\n",
       "      <td>107</td>\n",
       "      <td>139.2</td>\n",
       "      <td>141.4</td>\n",
       "      <td>91.2</td>\n",
       "      <td>0.130</td>\n",
       "      <td>0.440</td>\n",
       "      <td>...</td>\n",
       "      <td>0.120</td>\n",
       "      <td>0.0</td>\n",
       "      <td>0.671</td>\n",
       "      <td>10.1</td>\n",
       "      <td>79.3</td>\n",
       "      <td>0.425</td>\n",
       "      <td>18</td>\n",
       "      <td>0.0</td>\n",
       "      <td>21</td>\n",
       "      <td>1</td>\n",
       "    </tr>\n",
       "    <tr>\n",
       "      <th>5</th>\n",
       "      <td>0</td>\n",
       "      <td>UTA</td>\n",
       "      <td>W</td>\n",
       "      <td>119</td>\n",
       "      <td>107</td>\n",
       "      <td>123.8</td>\n",
       "      <td>113.2</td>\n",
       "      <td>94.5</td>\n",
       "      <td>0.188</td>\n",
       "      <td>0.412</td>\n",
       "      <td>...</td>\n",
       "      <td>0.176</td>\n",
       "      <td>0.0</td>\n",
       "      <td>0.603</td>\n",
       "      <td>15.0</td>\n",
       "      <td>89.2</td>\n",
       "      <td>0.167</td>\n",
       "      <td>18</td>\n",
       "      <td>0.0</td>\n",
       "      <td>21</td>\n",
       "      <td>1</td>\n",
       "    </tr>\n",
       "    <tr>\n",
       "      <th>6</th>\n",
       "      <td>1</td>\n",
       "      <td>UTA</td>\n",
       "      <td>W</td>\n",
       "      <td>80</td>\n",
       "      <td>78</td>\n",
       "      <td>131.8</td>\n",
       "      <td>118.5</td>\n",
       "      <td>90.3</td>\n",
       "      <td>0.366</td>\n",
       "      <td>0.507</td>\n",
       "      <td>...</td>\n",
       "      <td>0.324</td>\n",
       "      <td>0.0</td>\n",
       "      <td>0.573</td>\n",
       "      <td>10.2</td>\n",
       "      <td>87.8</td>\n",
       "      <td>0.280</td>\n",
       "      <td>18</td>\n",
       "      <td>0.0</td>\n",
       "      <td>21</td>\n",
       "      <td>1</td>\n",
       "    </tr>\n",
       "    <tr>\n",
       "      <th>7</th>\n",
       "      <td>0</td>\n",
       "      <td>LAC</td>\n",
       "      <td>W</td>\n",
       "      <td>97</td>\n",
       "      <td>120</td>\n",
       "      <td>91.6</td>\n",
       "      <td>89.3</td>\n",
       "      <td>87.3</td>\n",
       "      <td>0.157</td>\n",
       "      <td>0.373</td>\n",
       "      <td>...</td>\n",
       "      <td>0.120</td>\n",
       "      <td>0.0</td>\n",
       "      <td>0.430</td>\n",
       "      <td>12.3</td>\n",
       "      <td>79.2</td>\n",
       "      <td>0.127</td>\n",
       "      <td>18</td>\n",
       "      <td>0.0</td>\n",
       "      <td>17</td>\n",
       "      <td>0</td>\n",
       "    </tr>\n",
       "    <tr>\n",
       "      <th>8</th>\n",
       "      <td>0</td>\n",
       "      <td>LAC</td>\n",
       "      <td>L</td>\n",
       "      <td>110</td>\n",
       "      <td>101</td>\n",
       "      <td>101.4</td>\n",
       "      <td>125.4</td>\n",
       "      <td>95.7</td>\n",
       "      <td>0.325</td>\n",
       "      <td>0.434</td>\n",
       "      <td>...</td>\n",
       "      <td>0.217</td>\n",
       "      <td>0.0</td>\n",
       "      <td>0.631</td>\n",
       "      <td>13.3</td>\n",
       "      <td>75.7</td>\n",
       "      <td>0.167</td>\n",
       "      <td>18</td>\n",
       "      <td>0.0</td>\n",
       "      <td>17</td>\n",
       "      <td>1</td>\n",
       "    </tr>\n",
       "    <tr>\n",
       "      <th>9</th>\n",
       "      <td>1</td>\n",
       "      <td>LAC</td>\n",
       "      <td>W</td>\n",
       "      <td>107</td>\n",
       "      <td>113</td>\n",
       "      <td>116.2</td>\n",
       "      <td>106.7</td>\n",
       "      <td>94.7</td>\n",
       "      <td>0.187</td>\n",
       "      <td>0.440</td>\n",
       "      <td>...</td>\n",
       "      <td>0.143</td>\n",
       "      <td>0.0</td>\n",
       "      <td>0.460</td>\n",
       "      <td>14.4</td>\n",
       "      <td>62.0</td>\n",
       "      <td>0.227</td>\n",
       "      <td>18</td>\n",
       "      <td>0.0</td>\n",
       "      <td>17</td>\n",
       "      <td>0</td>\n",
       "    </tr>\n",
       "    <tr>\n",
       "      <th>10</th>\n",
       "      <td>1</td>\n",
       "      <td>LAC</td>\n",
       "      <td>L</td>\n",
       "      <td>85</td>\n",
       "      <td>96</td>\n",
       "      <td>107.2</td>\n",
       "      <td>113.2</td>\n",
       "      <td>99.8</td>\n",
       "      <td>0.106</td>\n",
       "      <td>0.362</td>\n",
       "      <td>...</td>\n",
       "      <td>0.085</td>\n",
       "      <td>0.0</td>\n",
       "      <td>0.620</td>\n",
       "      <td>16.4</td>\n",
       "      <td>90.3</td>\n",
       "      <td>0.267</td>\n",
       "      <td>18</td>\n",
       "      <td>0.0</td>\n",
       "      <td>17</td>\n",
       "      <td>0</td>\n",
       "    </tr>\n",
       "    <tr>\n",
       "      <th>11</th>\n",
       "      <td>0</td>\n",
       "      <td>LAC</td>\n",
       "      <td>L</td>\n",
       "      <td>111</td>\n",
       "      <td>105</td>\n",
       "      <td>96.6</td>\n",
       "      <td>109.1</td>\n",
       "      <td>88.0</td>\n",
       "      <td>0.382</td>\n",
       "      <td>0.397</td>\n",
       "      <td>...</td>\n",
       "      <td>0.324</td>\n",
       "      <td>0.0</td>\n",
       "      <td>0.468</td>\n",
       "      <td>8.9</td>\n",
       "      <td>78.6</td>\n",
       "      <td>0.278</td>\n",
       "      <td>18</td>\n",
       "      <td>0.0</td>\n",
       "      <td>17</td>\n",
       "      <td>1</td>\n",
       "    </tr>\n",
       "    <tr>\n",
       "      <th>12</th>\n",
       "      <td>1</td>\n",
       "      <td>LAC</td>\n",
       "      <td>W</td>\n",
       "      <td>111</td>\n",
       "      <td>98</td>\n",
       "      <td>118.6</td>\n",
       "      <td>112.2</td>\n",
       "      <td>93.6</td>\n",
       "      <td>0.309</td>\n",
       "      <td>0.333</td>\n",
       "      <td>...</td>\n",
       "      <td>0.259</td>\n",
       "      <td>0.0</td>\n",
       "      <td>0.511</td>\n",
       "      <td>8.6</td>\n",
       "      <td>79.2</td>\n",
       "      <td>0.170</td>\n",
       "      <td>18</td>\n",
       "      <td>0.0</td>\n",
       "      <td>17</td>\n",
       "      <td>1</td>\n",
       "    </tr>\n",
       "    <tr>\n",
       "      <th>13</th>\n",
       "      <td>0</td>\n",
       "      <td>LAC</td>\n",
       "      <td>W</td>\n",
       "      <td>104</td>\n",
       "      <td>89</td>\n",
       "      <td>120.6</td>\n",
       "      <td>106.5</td>\n",
       "      <td>92.1</td>\n",
       "      <td>0.365</td>\n",
       "      <td>0.338</td>\n",
       "      <td>...</td>\n",
       "      <td>0.257</td>\n",
       "      <td>0.0</td>\n",
       "      <td>0.474</td>\n",
       "      <td>12.6</td>\n",
       "      <td>79.5</td>\n",
       "      <td>0.308</td>\n",
       "      <td>18</td>\n",
       "      <td>0.0</td>\n",
       "      <td>17</td>\n",
       "      <td>1</td>\n",
       "    </tr>\n",
       "  </tbody>\n",
       "</table>\n",
       "<p>14 rows × 29 columns</p>\n",
       "</div>"
      ],
      "text/plain": [
       "    Home/Away Opponent W/L  Team Score  Opp Score   ORtg   DRtg  Pace    FTr  \\\n",
       "0           1      UTA   0         135        125    0.0    0.0   0.0  0.000   \n",
       "1           1      UTA   W         105        124  130.0  120.4  94.0  0.189   \n",
       "2           0      UTA   L          87        124  122.7  144.8  85.6  0.284   \n",
       "3           0      UTA   L         127        129   95.4  135.9  91.2  0.125   \n",
       "4           1      UTA   L         117        107  139.2  141.4  91.2  0.130   \n",
       "5           0      UTA   W         119        107  123.8  113.2  94.5  0.188   \n",
       "6           1      UTA   W          80         78  131.8  118.5  90.3  0.366   \n",
       "7           0      LAC   W          97        120   91.6   89.3  87.3  0.157   \n",
       "8           0      LAC   L         110        101  101.4  125.4  95.7  0.325   \n",
       "9           1      LAC   W         107        113  116.2  106.7  94.7  0.187   \n",
       "10          1      LAC   L          85         96  107.2  113.2  99.8  0.106   \n",
       "11          0      LAC   L         111        105   96.6  109.1  88.0  0.382   \n",
       "12          1      LAC   W         111         98  118.6  112.2  93.6  0.309   \n",
       "13          0      LAC   W         104         89  120.6  106.5  92.1  0.365   \n",
       "\n",
       "     3PAr  ...  FT/FGA  Unnamed: 23_level_1  def_eFG%  def_TOV%  def_DRB%  \\\n",
       "0   0.000  ...   0.000                  0.0     0.000       0.0       0.0   \n",
       "1   0.432  ...   0.158                  0.0     0.557      12.3      67.3   \n",
       "2   0.333  ...   0.222                  0.0     0.632       6.0      71.8   \n",
       "3   0.432  ...   0.102                  0.0     0.619       9.5      69.0   \n",
       "4   0.440  ...   0.120                  0.0     0.671      10.1      79.3   \n",
       "5   0.412  ...   0.176                  0.0     0.603      15.0      89.2   \n",
       "6   0.507  ...   0.324                  0.0     0.573      10.2      87.8   \n",
       "7   0.373  ...   0.120                  0.0     0.430      12.3      79.2   \n",
       "8   0.434  ...   0.217                  0.0     0.631      13.3      75.7   \n",
       "9   0.440  ...   0.143                  0.0     0.460      14.4      62.0   \n",
       "10  0.362  ...   0.085                  0.0     0.620      16.4      90.3   \n",
       "11  0.397  ...   0.324                  0.0     0.468       8.9      78.6   \n",
       "12  0.333  ...   0.259                  0.0     0.511       8.6      79.2   \n",
       "13  0.338  ...   0.257                  0.0     0.474      12.6      79.5   \n",
       "\n",
       "    def_FT/FGA  Team  Opp_num  Opponent_num  Win  \n",
       "0        0.000    18      0.0            21    1  \n",
       "1        0.175    18      0.0            21    0  \n",
       "2        0.161    18      0.0            21    0  \n",
       "3        0.238    18      0.0            21    0  \n",
       "4        0.425    18      0.0            21    1  \n",
       "5        0.167    18      0.0            21    1  \n",
       "6        0.280    18      0.0            21    1  \n",
       "7        0.127    18      0.0            17    0  \n",
       "8        0.167    18      0.0            17    1  \n",
       "9        0.227    18      0.0            17    0  \n",
       "10       0.267    18      0.0            17    0  \n",
       "11       0.278    18      0.0            17    1  \n",
       "12       0.170    18      0.0            17    1  \n",
       "13       0.308    18      0.0            17    1  \n",
       "\n",
       "[14 rows x 29 columns]"
      ]
     },
     "execution_count": 318,
     "metadata": {},
     "output_type": "execute_result"
    }
   ],
   "source": [
    "test_data"
   ]
  },
  {
   "cell_type": "code",
   "execution_count": 319,
   "metadata": {},
   "outputs": [],
   "source": [
    "train_data.fillna(0,inplace=True)\n",
    "train_x = train_data[[\"Team\",\"Home/Away\",\"Opponent_num\",\"ORtg\",\"DRtg\"]].to_numpy()\n",
    "train_y = train_data[[\"Win\"]].to_numpy()\n",
    "test_data.fillna(0,inplace=True)\n",
    "test_x = test_data[[\"Team\",\"Home/Away\",\"Opponent_num\",\"ORtg\",\"DRtg\"]].to_numpy()\n",
    "test_y = test_data[[\"Win\"]].to_numpy()"
   ]
  },
  {
   "cell_type": "code",
   "execution_count": 320,
   "metadata": {},
   "outputs": [
    {
     "name": "stdout",
     "output_type": "stream",
     "text": [
      "-0.0029732732694591757\n",
      "0.42857142857142855\n"
     ]
    },
    {
     "name": "stderr",
     "output_type": "stream",
     "text": [
      "/usr/local/lib/python3.7/site-packages/ipykernel_launcher.py:15: DataConversionWarning: A column-vector y was passed when a 1d array was expected. Please change the shape of y to (n_samples, ), for example using ravel().\n",
      "  from ipykernel import kernelapp as app\n",
      "/usr/local/lib/python3.7/site-packages/sklearn/utils/validation.py:760: DataConversionWarning: A column-vector y was passed when a 1d array was expected. Please change the shape of y to (n_samples, ), for example using ravel().\n",
      "  y = column_or_1d(y, warn=True)\n",
      "/usr/local/lib/python3.7/site-packages/sklearn/svm/_base.py:947: ConvergenceWarning: Liblinear failed to converge, increase the number of iterations.\n",
      "  \"the number of iterations.\", ConvergenceWarning)\n",
      "/usr/local/lib/python3.7/site-packages/sklearn/utils/validation.py:760: DataConversionWarning: A column-vector y was passed when a 1d array was expected. Please change the shape of y to (n_samples, ), for example using ravel().\n",
      "  y = column_or_1d(y, warn=True)\n"
     ]
    },
    {
     "name": "stdout",
     "output_type": "stream",
     "text": [
      "0.5\n",
      "0.42857142857142855\n"
     ]
    },
    {
     "name": "stderr",
     "output_type": "stream",
     "text": [
      "/usr/local/lib/python3.7/site-packages/sklearn/ensemble/_bagging.py:645: DataConversionWarning: A column-vector y was passed when a 1d array was expected. Please change the shape of y to (n_samples, ), for example using ravel().\n",
      "  y = column_or_1d(y, warn=True)\n"
     ]
    },
    {
     "name": "stdout",
     "output_type": "stream",
     "text": [
      "0.42857142857142855\n"
     ]
    },
    {
     "name": "stderr",
     "output_type": "stream",
     "text": [
      "/usr/local/lib/python3.7/site-packages/ipykernel_launcher.py:43: DataConversionWarning: A column-vector y was passed when a 1d array was expected. Please change the shape of y to (n_samples,), for example using ravel().\n"
     ]
    },
    {
     "name": "stdout",
     "output_type": "stream",
     "text": [
      "0.5714285714285714\n"
     ]
    },
    {
     "name": "stderr",
     "output_type": "stream",
     "text": [
      "/usr/local/lib/python3.7/site-packages/sklearn/preprocessing/_label.py:235: DataConversionWarning: A column-vector y was passed when a 1d array was expected. Please change the shape of y to (n_samples, ), for example using ravel().\n",
      "  y = column_or_1d(y, warn=True)\n",
      "/usr/local/lib/python3.7/site-packages/sklearn/preprocessing/_label.py:268: DataConversionWarning: A column-vector y was passed when a 1d array was expected. Please change the shape of y to (n_samples, ), for example using ravel().\n",
      "  y = column_or_1d(y, warn=True)\n"
     ]
    },
    {
     "name": "stdout",
     "output_type": "stream",
     "text": [
      "0.5\n"
     ]
    }
   ],
   "source": [
    "import numpy as np\n",
    "from sklearn.linear_model import LinearRegression\n",
    "\n",
    "model = LinearRegression(fit_intercept=True, normalize=True)\n",
    "\n",
    "# Train the model\n",
    "model = model.fit(train_x,train_y)\n",
    "\n",
    "_sq = model.score(test_x, test_y)\n",
    "\n",
    "print(_sq)\n",
    "\n",
    "from sklearn.neighbors import KNeighborsClassifier\n",
    "knn = KNeighborsClassifier(n_neighbors = 10)\n",
    "knn.fit(train_x, train_y)\n",
    "knn_sq = knn.score(test_x,test_y)\n",
    "print(knn_sq)\n",
    "\n",
    "# LinearSVC classification (Accuracy of 68.46%)\n",
    "from sklearn.svm import LinearSVC\n",
    "lclf = LinearSVC(random_state=0, tol=1e-5, max_iter=1000)\n",
    "lclf.fit(train_x, train_y)\n",
    "svc_sq = lclf.score(test_x,test_y)\n",
    "print(svc_sq)\n",
    "\n",
    "# SVC prediction model attempt \n",
    "from sklearn.svm import SVC\n",
    "from sklearn import svm\n",
    "clf = SVC(gamma='scale',probability=True)\n",
    "clf.fit(train_x, train_y)\n",
    "print(clf.score(test_x,test_y))\n",
    "\n",
    "#BaggingSVC Ensemble classification \n",
    "from sklearn.svm import SVC\n",
    "from sklearn.ensemble import BaggingClassifier\n",
    "advclf = BaggingClassifier(base_estimator=SVC(gamma='scale'), n_estimators=10, random_state=0)\n",
    "advclf.fit(train_x, train_y)\n",
    "print(advclf.score(test_x,test_y))\n",
    "\n",
    "# Random Forest Classification model \n",
    "from sklearn.ensemble import RandomForestClassifier\n",
    "rdf = RandomForestClassifier(max_depth=8, random_state=0, n_estimators=300)\n",
    "rdf.fit(train_x, train_y)\n",
    "print(rdf.score(test_x,test_y))\n",
    "\n",
    "# XGBClassifier\n",
    "from xgboost import XGBClassifier\n",
    "from sklearn.metrics import accuracy_score\n",
    "xgbModel = XGBClassifier()\n",
    "xgbModel.fit(train_x, train_y)\n",
    "xgbPredictions = xgbModel.predict(test_x)\n",
    "xgbAccuracy = accuracy_score(test_y, xgbPredictions)\n",
    "print(xgbAccuracy)"
   ]
  },
  {
   "cell_type": "code",
   "execution_count": null,
   "metadata": {},
   "outputs": [],
   "source": [
    "train_data.fillna(0,inplace=True)\n",
    "train_x[\"Exponential Rolling ORTg Average\"] = train_data[\"ORtg\"].rolling(10,win_type=exponential).mean()\n",
    "train_x[\"Exponential Rolling DRTg Average\"] = train_data[\"ORtg\"].rolling(10,win_type=exponential).mean()\n",
    "test_x[\"Exponential Rolling ORTg Average\"] = test_data[\"ORtg\"].rolling(10,win_type=exponential).mean()\n",
    "test_x[\"Exponential Rolling DRTg Average\"] = test_data[\"ORtg\"].rolling(10,win_type=exponential).mean()\n",
    "train_x = train_data[[\"Team\",\"Home/Away\",\"Opponent_num\",\"Exponential Rolling ORTg Average\",\"Exponential Rolling DRTg Average\"]].to_numpy()\n",
    "train_y = train_data[[\"Win\"]].to_numpy()\n",
    "test_data.fillna(0,inplace=True)\n",
    "test_x = test_data[[\"Team\",\"Home/Away\",\"Opponent_num\",\"Exponential Rolling ORTg Average\",\"Exponential Rolling DRTg Average\"]].to_numpy()\n",
    "test_y = test_data[[\"Win\"]].to_numpy()"
   ]
  },
  {
   "cell_type": "code",
   "execution_count": null,
   "metadata": {},
   "outputs": [],
   "source": [
    "import numpy as np\n",
    "from sklearn.linear_model import LinearRegression\n",
    "\n",
    "model = LinearRegression(fit_intercept=True, normalize=True)\n",
    "\n",
    "# Train the model\n",
    "model = model.fit(train_x,train_y)\n",
    "\n",
    "_sq = model.score(test_x, test_y)\n",
    "\n",
    "print(_sq)\n",
    "\n",
    "from sklearn.neighbors import KNeighborsClassifier\n",
    "knn = KNeighborsClassifier(n_neighbors = 10)\n",
    "knn.fit(train_x, train_y)\n",
    "knn_sq = knn.score(test_x,test_y)\n",
    "print(knn_sq)\n",
    "\n",
    "# LinearSVC classification (Accuracy of 68.46%)\n",
    "from sklearn.svm import LinearSVC\n",
    "lclf = LinearSVC(random_state=0, tol=1e-5, max_iter=1000)\n",
    "lclf.fit(train_x, train_y)\n",
    "svc_sq = lclf.score(test_x,test_y)\n",
    "print(svc_sq)\n",
    "\n",
    "# SVC prediction model attempt \n",
    "from sklearn.svm import SVC\n",
    "from sklearn import svm\n",
    "clf = SVC(gamma='scale',probability=True)\n",
    "clf.fit(train_x, train_y)\n",
    "print(clf.score(test_x,test_y))\n",
    "\n",
    "#BaggingSVC Ensemble classification \n",
    "from sklearn.svm import SVC\n",
    "from sklearn.ensemble import BaggingClassifier\n",
    "advclf = BaggingClassifier(base_estimator=SVC(gamma='scale'), n_estimators=10, random_state=0)\n",
    "advclf.fit(train_x, train_y)\n",
    "print(advclf.score(test_x,test_y))\n",
    "\n",
    "# Random Forest Classification model \n",
    "from sklearn.ensemble import RandomForestClassifier\n",
    "rdf = RandomForestClassifier(max_depth=8, random_state=0, n_estimators=300)\n",
    "rdf.fit(train_x, train_y)\n",
    "print(rdf.score(test_x,test_y))\n",
    "\n",
    "# XGBClassifier\n",
    "from xgboost import XGBClassifier\n",
    "from sklearn.metrics import accuracy_score\n",
    "xgbModel = XGBClassifier()\n",
    "xgbModel.fit(train_x, train_y)\n",
    "xgbPredictions = xgbModel.predict(test_x)\n",
    "xgbAccuracy = accuracy_score(test_y, xgbPredictions)\n",
    "print(xgbAccuracy)"
   ]
  }
 ],
 "metadata": {
  "kernelspec": {
   "display_name": "Python 3",
   "language": "python",
   "name": "python3"
  },
  "language_info": {
   "codemirror_mode": {
    "name": "ipython",
    "version": 3
   },
   "file_extension": ".py",
   "mimetype": "text/x-python",
   "name": "python",
   "nbconvert_exporter": "python",
   "pygments_lexer": "ipython3",
   "version": "3.7.5"
  }
 },
 "nbformat": 4,
 "nbformat_minor": 2
}
