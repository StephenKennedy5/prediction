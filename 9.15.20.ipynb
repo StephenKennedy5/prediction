{
 "cells": [
  {
   "cell_type": "code",
   "execution_count": 1,
   "metadata": {},
   "outputs": [],
   "source": [
    "import json\n",
    "import pandas as pd\n",
    "import numpy as np"
   ]
  },
  {
   "cell_type": "markdown",
   "metadata": {},
   "source": [
    "Jsons to get Team numbers for Opponents and URLs to get team schedule"
   ]
  },
  {
   "cell_type": "code",
   "execution_count": 3,
   "metadata": {},
   "outputs": [],
   "source": [
    "with open('team_schedule.json') as f:\n",
    "    data1 = json.load(f)\n",
    "team_key = list(data1.keys())\n",
    "team_url = list(data1.values())\n",
    "f.close()"
   ]
  },
  {
   "cell_type": "code",
   "execution_count": 5,
   "metadata": {},
   "outputs": [],
   "source": [
    "with open('team_numbers.json') as f:\n",
    "    data = json.load(f)\n",
    "team_name = list(data.keys())\n",
    "team_number = list(data.values())\n",
    "f.close()"
   ]
  },
  {
   "cell_type": "markdown",
   "metadata": {},
   "source": [
    "Place Teams in Conferences Finals into dataframes"
   ]
  },
  {
   "cell_type": "code",
   "execution_count": 54,
   "metadata": {},
   "outputs": [],
   "source": [
    "Lakers = pd.read_html(data1['LAL'],skiprows=(21,42,63))[0]\n",
    "Denver = pd.read_html(data1['DEN'],skiprows=(21,42,63))[0]\n",
    "Heat = pd.read_html(data1['MIA'],skiprows=(21,42,63))[0]\n",
    "Boston = pd.read_html(data1['BOS'],skiprows=(21,42,63))[0]"
   ]
  },
  {
   "cell_type": "code",
   "execution_count": 55,
   "metadata": {},
   "outputs": [],
   "source": [
    "Lakers = Lakers[['Tm','Opp','Unnamed: 5','Unnamed: 7','Opponent']]\n",
    "Denver = Denver[['Tm','Opp','Unnamed: 5','Unnamed: 7','Opponent']]\n",
    "Heat = Heat[['Tm','Opp','Unnamed: 5','Unnamed: 7','Opponent']]\n",
    "Boston = Boston[['Tm','Opp','Unnamed: 5','Unnamed: 7','Opponent']]"
   ]
  },
  {
   "cell_type": "code",
   "execution_count": 56,
   "metadata": {},
   "outputs": [],
   "source": [
    "list_teams = [Lakers,Denver,Heat,Boston]"
   ]
  },
  {
   "cell_type": "markdown",
   "metadata": {},
   "source": [
    "Change Name to Home/Away. Change Home games to = 1 and Away values = 0"
   ]
  },
  {
   "cell_type": "code",
   "execution_count": 57,
   "metadata": {},
   "outputs": [],
   "source": [
    "Lakers.rename({'Unnamed: 5': 'Home/Away'}, axis=1,inplace=True)\n",
    "Denver.rename({'Unnamed: 5': 'Home/Away'}, axis=1,inplace=True)\n",
    "Heat.rename({'Unnamed: 5': 'Home/Away'}, axis=1,inplace=True)\n",
    "Boston.rename({'Unnamed: 5': 'Home/Away'}, axis=1,inplace=True)"
   ]
  },
  {
   "cell_type": "code",
   "execution_count": 58,
   "metadata": {},
   "outputs": [],
   "source": [
    "#Can only run once or Home/Away data will say all 1s\n",
    "for i in list_teams:\n",
    "    list2 = []\n",
    "    for index,row in i.iterrows():\n",
    "        if row['Home/Away'] == '@':\n",
    "            list2.append(0)\n",
    "        else:\n",
    "            list2.append(1)\n",
    "    i['Home/Away'] = list2"
   ]
  },
  {
   "cell_type": "markdown",
   "metadata": {},
   "source": [
    "Create Column for Opponent team numercial value which is determined in team_numbers.json"
   ]
  },
  {
   "cell_type": "code",
   "execution_count": 70,
   "metadata": {},
   "outputs": [],
   "source": [
    "Lakers['Team_num'] = 0\n",
    "Denver['Team_num'] = 0\n",
    "Heat['Team_num'] = 0\n",
    "Boston['Team_num'] = 0"
   ]
  },
  {
   "cell_type": "code",
   "execution_count": 71,
   "metadata": {},
   "outputs": [],
   "source": [
    "for i in list_teams:\n",
    "    list_ = []\n",
    "    for index,row in i.iterrows():\n",
    "        if row.Opponent in data:\n",
    "            list_.append(data[row.Opponent])\n",
    "    i['Team_num'] = list_"
   ]
  },
  {
   "cell_type": "markdown",
   "metadata": {},
   "source": [
    "Create X and Y axis for each of the teams to run in the model"
   ]
  },
  {
   "cell_type": "code",
   "execution_count": 76,
   "metadata": {},
   "outputs": [],
   "source": [
    "Lakers['Home'] = 16\n",
    "Denver['Home'] = 18\n",
    "Heat['Home'] = 3\n",
    "Boston['Home'] = 5"
   ]
  },
  {
   "cell_type": "code",
   "execution_count": 77,
   "metadata": {},
   "outputs": [],
   "source": [
    "Lakers_x = Lakers[[\"Home\",\"Team_num\",\"Home/Away\"]].to_numpy()\n",
    "Lakers_y = Lakers[[\"Tm\",\"Opp\"]].to_numpy()\n",
    "Lakers_series = Lakers.to_numpy()"
   ]
  },
  {
   "cell_type": "code",
   "execution_count": 78,
   "metadata": {},
   "outputs": [],
   "source": [
    "Denver_x = Denver[[\"Home\",\"Team_num\",\"Home/Away\"]].to_numpy()\n",
    "Denver_y = Denver[[\"Tm\",\"Opp\"]].to_numpy()\n",
    "Denver_series = Denver.to_numpy()"
   ]
  },
  {
   "cell_type": "code",
   "execution_count": 80,
   "metadata": {},
   "outputs": [],
   "source": [
    "Heat_x = Heat[[\"Home\",\"Team_num\",\"Home/Away\"]].to_numpy()\n",
    "Heat_y = Heat[[\"Tm\",\"Opp\"]].to_numpy()\n",
    "Heat_series = Heat.to_numpy()"
   ]
  },
  {
   "cell_type": "code",
   "execution_count": 81,
   "metadata": {},
   "outputs": [],
   "source": [
    "Boston_x = Boston[[\"Home\",\"Team_num\",\"Home/Away\"]].to_numpy()\n",
    "Boston_y = Boston[[\"Tm\",\"Opp\"]].to_numpy()\n",
    "Boston_series = Boston.to_numpy()"
   ]
  },
  {
   "cell_type": "markdown",
   "metadata": {},
   "source": [
    "Model"
   ]
  },
  {
   "cell_type": "code",
   "execution_count": 82,
   "metadata": {},
   "outputs": [
    {
     "name": "stdout",
     "output_type": "stream",
     "text": [
      "0.07259547197529138\n"
     ]
    },
    {
     "name": "stderr",
     "output_type": "stream",
     "text": [
      "C:\\Users\\nehpe\\Anaconda3\\lib\\site-packages\\sklearn\\base.py:420: FutureWarning: The default value of multioutput (not exposed in score method) will change from 'variance_weighted' to 'uniform_average' in 0.23 to keep consistent with 'metrics.r2_score'. To specify the default value manually and avoid the warning, please either call 'metrics.r2_score' directly or make a custom scorer with 'metrics.make_scorer' (the built-in scorer 'r2' uses multioutput='uniform_average').\n",
      "  \"multioutput='uniform_average').\", FutureWarning)\n"
     ]
    }
   ],
   "source": [
    "import numpy as np\n",
    "from sklearn.linear_model import LinearRegression\n",
    "\n",
    "model = LinearRegression(fit_intercept=True, normalize=True)\n",
    "\n",
    "# Train the model\n",
    "model = model.fit(Lakers_x,Lakers_y)\n",
    "\n",
    "_sq = model.score(Lakers_x, Lakers_y)\n",
    "\n",
    "print(_sq)"
   ]
  },
  {
   "cell_type": "code",
   "execution_count": 83,
   "metadata": {},
   "outputs": [
    {
     "name": "stdout",
     "output_type": "stream",
     "text": [
      "[[114.04014844 106.39708354]\n",
      " [113.37096202 108.9271338 ]]\n"
     ]
    }
   ],
   "source": [
    "nuggets = model.predict(np.array([[16,18,1],[16,18,0]]))\n",
    "print(nuggets)"
   ]
  },
  {
   "cell_type": "code",
   "execution_count": null,
   "metadata": {},
   "outputs": [],
   "source": []
  }
 ],
 "metadata": {
  "kernelspec": {
   "display_name": "Python 3",
   "language": "python",
   "name": "python3"
  },
  "language_info": {
   "codemirror_mode": {
    "name": "ipython",
    "version": 3
   },
   "file_extension": ".py",
   "mimetype": "text/x-python",
   "name": "python",
   "nbconvert_exporter": "python",
   "pygments_lexer": "ipython3",
   "version": "3.7.4"
  }
 },
 "nbformat": 4,
 "nbformat_minor": 2
}
