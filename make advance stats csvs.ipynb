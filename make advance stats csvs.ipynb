{
 "cells": [
  {
   "cell_type": "code",
   "execution_count": 1,
   "metadata": {},
   "outputs": [
    {
     "name": "stdout",
     "output_type": "stream",
     "text": [
      "Requirement already satisfied: lxml in /usr/local/lib/python3.7/site-packages (4.5.2)\r\n"
     ]
    }
   ],
   "source": [
    "!pip3 install lxml\n",
    "import pandas as pd\n",
    "import numpy as np\n",
    "import json\n",
    "from datetime import date,timedelta"
   ]
  },
  {
   "cell_type": "code",
   "execution_count": 2,
   "metadata": {},
   "outputs": [],
   "source": [
    "pd.set_option('display.max_rows',None)"
   ]
  },
  {
   "cell_type": "code",
   "execution_count": 3,
   "metadata": {},
   "outputs": [
    {
     "name": "stdout",
     "output_type": "stream",
     "text": [
      "['https://www.basketball-reference.com/teams/DEN/2016/gamelog', 'https://www.basketball-reference.com/teams/DEN/2017/gamelog', 'https://www.basketball-reference.com/teams/DEN/2018/gamelog', 'https://www.basketball-reference.com/teams/DEN/2019/gamelog', 'https://www.basketball-reference.com/teams/DEN/2020/gamelog']\n",
      "['https://www.basketball-reference.com/teams/LAL/2016/gamelog', 'https://www.basketball-reference.com/teams/LAL/2017/gamelog', 'https://www.basketball-reference.com/teams/LAL/2018/gamelog', 'https://www.basketball-reference.com/teams/LAL/2019/gamelog', 'https://www.basketball-reference.com/teams/LAL/2020/gamelog']\n"
     ]
    }
   ],
   "source": [
    "base_nuggets_href =\"https://www.basketball-reference.com/teams/DEN/{season}/gamelog\"\n",
    "base_lakers_href =\"https://www.basketball-reference.com/teams/LAL/{season}/gamelog\"\n",
    "years_to_go_back = 4\n",
    "nuggets_seasons =[]\n",
    "lakers_seasons =[]\n",
    "for i in range(years_to_go_back,-1,-1):\n",
    "    nuggets_seasons.append(base_nuggets_href.format(season=(date.today().year)-i))\n",
    "    lakers_seasons.append(base_lakers_href.format(season=(date.today().year)-i))\n",
    "\n",
    "\n",
    "print(nuggets_seasons)\n",
    "print(lakers_seasons)"
   ]
  },
  {
   "cell_type": "markdown",
   "metadata": {},
   "source": [
    "Create Data Frame from team game log"
   ]
  },
  {
   "cell_type": "code",
   "execution_count": 4,
   "metadata": {},
   "outputs": [],
   "source": [
    "df = pd.read_html('https://www.basketball-reference.com/teams/LAL/2020/gamelog/',skiprows=(22,23,44,45,66,67,88,89))[0]"
   ]
  },
  {
   "cell_type": "markdown",
   "metadata": {},
   "source": [
    "Creates copy of dataframe then undoes multiIndex for Dataframe"
   ]
  },
  {
   "cell_type": "code",
   "execution_count": 5,
   "metadata": {},
   "outputs": [],
   "source": [
    "df1 = df.copy(deep=True)\n",
    "df1.columns = [\" \".join(i) for i in df1.columns]"
   ]
  },
  {
   "cell_type": "markdown",
   "metadata": {},
   "source": [
    "Gets only advanced we are interested in and renames unnammed columns"
   ]
  },
  {
   "cell_type": "code",
   "execution_count": 6,
   "metadata": {},
   "outputs": [],
   "source": [
    "data = df1[['Unnamed: 6_level_0 Tm','Unnamed: 7_level_0 Opp','Unnamed: 3_level_0 Unnamed: 3_level_1','Unnamed: 4_level_0 Opp','Team FG%','Opponent FG%','Team 3P%','Opponent 3P%','Team AST','Team TOV','Opponent AST','Opponent TOV','Team FGA','Team FTA','Opponent FGA','Opponent FTA','Team ORB','Opponent ORB']]"
   ]
  },
  {
   "cell_type": "code",
   "execution_count": 7,
   "metadata": {},
   "outputs": [
    {
     "name": "stderr",
     "output_type": "stream",
     "text": [
      "/usr/local/lib/python3.7/site-packages/pandas/core/frame.py:4133: SettingWithCopyWarning: \n",
      "A value is trying to be set on a copy of a slice from a DataFrame\n",
      "\n",
      "See the caveats in the documentation: https://pandas.pydata.org/pandas-docs/stable/user_guide/indexing.html#returning-a-view-versus-a-copy\n",
      "  errors=errors,\n"
     ]
    }
   ],
   "source": [
    "data.rename({'Unnamed: 6_level_0 Tm':'Team Score'},axis=1,inplace=True)\n",
    "data.rename({'Unnamed: 7_level_0 Opp':'Opp Score'},axis=1,inplace=True)\n",
    "data.rename({'Unnamed: 3_level_0 Unnamed: 3_level_1':'Home/Away'},axis=1,inplace=True)\n",
    "data.rename({'Unnamed: 4_level_0 Opp':'Opponent'},axis=1,inplace=True)"
   ]
  },
  {
   "cell_type": "markdown",
   "metadata": {},
   "source": [
    "Creates copy of new dataframe and adds new advance stats columns that will be calculated with data in dataframe"
   ]
  },
  {
   "cell_type": "code",
   "execution_count": 8,
   "metadata": {},
   "outputs": [],
   "source": [
    "advance = data.copy(deep=True)"
   ]
  },
  {
   "cell_type": "code",
   "execution_count": 9,
   "metadata": {},
   "outputs": [],
   "source": [
    "advance['ORtg'] = 0\n",
    "advance['DRtg'] = 0\n",
    "advance['Ast_Tov_Team'] = 0\n",
    "advance['Ast_Tov_Opp'] = 0\n",
    "advance['Possession'] = 0"
   ]
  },
  {
   "cell_type": "code",
   "execution_count": 10,
   "metadata": {},
   "outputs": [],
   "source": [
    "ast_tov_team = advance['Team AST']/advance['Team TOV']\n",
    "ast_tov_opp = advance['Opponent AST']/advance['Opponent TOV']"
   ]
  },
  {
   "cell_type": "code",
   "execution_count": 11,
   "metadata": {},
   "outputs": [],
   "source": [
    "advance['Ast_Tov_Team'] = ast_tov_team\n",
    "advance['Ast_Tov_Opp'] = ast_tov_opp"
   ]
  },
  {
   "cell_type": "code",
   "execution_count": 12,
   "metadata": {},
   "outputs": [],
   "source": [
    "possession = .5*(advance['Team FGA'] + (.475*advance['Team FTA']) - advance['Team ORB'] + advance['Team TOV']) + .5 * (advance['Team FGA'] + (.475*advance['Opponent FTA']) - advance['Opponent ORB'] + advance['Opponent TOV'])\n",
    "advance['Possession'] = possession"
   ]
  },
  {
   "cell_type": "code",
   "execution_count": 13,
   "metadata": {},
   "outputs": [],
   "source": [
    "ortg = 100 * (advance['Team Score']/advance['Possession'])\n",
    "drtg = 100 * (advance['Opp Score']/advance['Possession'])"
   ]
  },
  {
   "cell_type": "code",
   "execution_count": 14,
   "metadata": {},
   "outputs": [],
   "source": [
    "advance['ORtg'] = ortg\n",
    "advance['DRtg'] = drtg"
   ]
  },
  {
   "cell_type": "markdown",
   "metadata": {},
   "source": [
    "Adds Team number and Opp numbers"
   ]
  },
  {
   "cell_type": "code",
   "execution_count": 15,
   "metadata": {},
   "outputs": [],
   "source": [
    "list2 = []\n",
    "for index,row in advance.iterrows():\n",
    "    if row['Home/Away'] == '@':\n",
    "         list2.append(0)\n",
    "    else:\n",
    "        list2.append(1)\n",
    "advance['Home/Away'] = list2"
   ]
  },
  {
   "cell_type": "code",
   "execution_count": 16,
   "metadata": {},
   "outputs": [],
   "source": [
    "advance['Team'] = 16\n",
    "advance['Opponent_num'] = 0"
   ]
  },
  {
   "cell_type": "code",
   "execution_count": 17,
   "metadata": {},
   "outputs": [],
   "source": [
    "with open('abr_numbers.json') as f:\n",
    "    data1 = json.load(f)\n",
    "team_name = list(data1.keys())\n",
    "team_number = list(data1.values())\n",
    "f.close()"
   ]
  },
  {
   "cell_type": "code",
   "execution_count": 18,
   "metadata": {},
   "outputs": [],
   "source": [
    "list_ = []\n",
    "for index,row in advance.iterrows():\n",
    "    if row.Opponent in data1:\n",
    "        list_.append(data1[row.Opponent])\n",
    "advance['Opponent_num'] = list_"
   ]
  },
  {
   "cell_type": "markdown",
   "metadata": {},
   "source": [
    "Places data in csv "
   ]
  },
  {
   "cell_type": "code",
   "execution_count": 19,
   "metadata": {},
   "outputs": [],
   "source": [
    "advance.to_csv('lakers_advance_2020.csv',index=False)"
   ]
  },
  {
   "cell_type": "code",
   "execution_count": null,
   "metadata": {},
   "outputs": [],
   "source": []
  }
 ],
 "metadata": {
  "kernelspec": {
   "display_name": "Python 3",
   "language": "python",
   "name": "python3"
  },
  "language_info": {
   "codemirror_mode": {
    "name": "ipython",
    "version": 3
   },
   "file_extension": ".py",
   "mimetype": "text/x-python",
   "name": "python",
   "nbconvert_exporter": "python",
   "pygments_lexer": "ipython3",
   "version": "3.7.5"
  }
 },
 "nbformat": 4,
 "nbformat_minor": 2
}
